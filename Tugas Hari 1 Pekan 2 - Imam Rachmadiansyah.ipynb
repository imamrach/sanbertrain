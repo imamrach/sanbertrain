{
 "cells": [
  {
   "cell_type": "markdown",
   "metadata": {
    "colab_type": "text",
    "id": "s6LccGLI5deK"
   },
   "source": [
    "<h2>Soal 1: Membuat Objek DataFrames</h2>\n",
    "\n",
    "- Buatlah objek dataframes dari objek dictionary, Bebas!"
   ]
  },
  {
   "cell_type": "code",
   "execution_count": 13,
   "metadata": {
    "colab": {},
    "colab_type": "code",
    "id": "V2jNr8n-5deM"
   },
   "outputs": [
    {
     "name": "stdout",
     "output_type": "stream",
     "text": [
      "    Name      Club Age Pos Weekly_Wage\n",
      "0  Fabio      Roma  23  ST       54000\n",
      "1   Luiz  Shahktar  19  DF       23000\n"
     ]
    }
   ],
   "source": [
    "# Membuat dataframes dari dictionary\n",
    "\n",
    "import pandas as pd\n",
    "\n",
    "x = pd.DataFrame({'Name':['Fabio','Luiz'],\n",
    "         'Club':['Roma','Shahktar'],\n",
    "         'Age':['23','19'],\n",
    "         'Pos':['ST','DF'],\n",
    "         'Weekly_Wage':['54000','23000']})\n",
    "print(x)"
   ]
  },
  {
   "cell_type": "markdown",
   "metadata": {
    "colab_type": "text",
    "id": "KWEFNf9B5deX"
   },
   "source": [
    "<h2>Soal 2: Membaca data dari file</h2>\n",
    "\n",
    "Download file bernama [diamonds.csv](https://drive.google.com/uc?export=download&id=1qQiM9utQUThTPq8jk8stPMh_y2zfqYOd), kemudian baca data tersebut dan assign ke dalam suatu variabel kemudian print."
   ]
  },
  {
   "cell_type": "code",
   "execution_count": 7,
   "metadata": {
    "colab": {},
    "colab_type": "code",
    "id": "Jy2KtDNs5deZ"
   },
   "outputs": [
    {
     "name": "stdout",
     "output_type": "stream",
     "text": [
      "       Unnamed: 0  carat        cut color clarity  depth  table  price     x  \\\n",
      "0               1   0.23      Ideal     E     SI2   61.5   55.0    326  3.95   \n",
      "1               2   0.21    Premium     E     SI1   59.8   61.0    326  3.89   \n",
      "2               3   0.23       Good     E     VS1   56.9   65.0    327  4.05   \n",
      "3               4   0.29    Premium     I     VS2   62.4   58.0    334  4.20   \n",
      "4               5   0.31       Good     J     SI2   63.3   58.0    335  4.34   \n",
      "...           ...    ...        ...   ...     ...    ...    ...    ...   ...   \n",
      "53935       53936   0.72      Ideal     D     SI1   60.8   57.0   2757  5.75   \n",
      "53936       53937   0.72       Good     D     SI1   63.1   55.0   2757  5.69   \n",
      "53937       53938   0.70  Very Good     D     SI1   62.8   60.0   2757  5.66   \n",
      "53938       53939   0.86    Premium     H     SI2   61.0   58.0   2757  6.15   \n",
      "53939       53940   0.75      Ideal     D     SI2   62.2   55.0   2757  5.83   \n",
      "\n",
      "          y     z  \n",
      "0      3.98  2.43  \n",
      "1      3.84  2.31  \n",
      "2      4.07  2.31  \n",
      "3      4.23  2.63  \n",
      "4      4.35  2.75  \n",
      "...     ...   ...  \n",
      "53935  5.76  3.50  \n",
      "53936  5.75  3.61  \n",
      "53937  5.68  3.56  \n",
      "53938  6.12  3.74  \n",
      "53939  5.87  3.64  \n",
      "\n",
      "[53940 rows x 11 columns]\n"
     ]
    }
   ],
   "source": [
    "# Membaca data dan memasukannya kedalam suatu variabel\n",
    "\n",
    "df_diamond_csv = pd.read_csv('diamonds-1.csv')\n",
    "\n",
    "print(df_diamond_csv)"
   ]
  },
  {
   "cell_type": "markdown",
   "metadata": {
    "colab_type": "text",
    "id": "1o9m_N295del"
   },
   "source": [
    "Expected Result:\n",
    "\n",
    "![alt text](https://drive.google.com/uc?id=1BvgM5mJEVfj0fllrjkBfQwn0QIFkry_t)"
   ]
  },
  {
   "cell_type": "markdown",
   "metadata": {
    "colab_type": "text",
    "id": "LtLWF_Ot5deo"
   },
   "source": [
    "<h2>Soal 3: DataFrame vs Series</h2>\n",
    "\n",
    "- Apa perbedaan Series dengan list dan dictionary\n",
    "Series berbentuk daftar yang berbentuk vertikal tabular, sementara list dan dictionary adalah daftar horizontal \n",
    "- Apa perbedaan dataframe dan series\n",
    "DataFrame dapat memuat 2 objek didalamnya, sementara series hanya satu\n",
    "- Buatlah suatu data series"
   ]
  },
  {
   "cell_type": "markdown",
   "metadata": {
    "colab_type": "text",
    "id": "6F2EDcPp5der"
   },
   "source": [
    "Jawab: "
   ]
  },
  {
   "cell_type": "code",
   "execution_count": 14,
   "metadata": {
    "colab": {},
    "colab_type": "code",
    "id": "RBPrIKlZ5dev"
   },
   "outputs": [
    {
     "name": "stdout",
     "output_type": "stream",
     "text": [
      "0    2\n",
      "1    1\n",
      "2    3\n",
      "3    4\n",
      "4    6\n",
      "dtype: object\n"
     ]
    }
   ],
   "source": [
    "# code here\n",
    "\n",
    "y = pd.Series(['2','1','3','4','6'])\n",
    "\n",
    "print(y)"
   ]
  },
  {
   "cell_type": "markdown",
   "metadata": {
    "colab_type": "text",
    "id": "JNuHgN945de8"
   },
   "source": [
    "<h2>Soal 4: Pemeriksaan Data Sederhana</h2>\n",
    "\n",
    "Di soal no 2 kamu telah membaca data tentang diamonds. pada soal ini cobalah suatu metode dari pandas untuk mengetahui beberapa data pertama dan beberapa data terakhir. kemudian sebutkan nilai dari:\n",
    "- baris pertama dari column price\n",
    "- baris terakhir dari column color\n",
    "\n",
    "tunjukan cara kalian menemukan nilai tersebut di block di bawah ini."
   ]
  },
  {
   "cell_type": "code",
   "execution_count": 8,
   "metadata": {
    "colab": {},
    "colab_type": "code",
    "id": "MRvNarxL5de-"
   },
   "outputs": [
    {
     "data": {
      "text/plain": [
       "0    326\n",
       "1    326\n",
       "2    327\n",
       "Name: price, dtype: int64"
      ]
     },
     "execution_count": 8,
     "metadata": {},
     "output_type": "execute_result"
    }
   ],
   "source": [
    "# price-head\n",
    "import pandas as pd\n",
    "df_diamond_csv = pd.read_csv('diamonds-1.csv')\n",
    "\n",
    "df_diamond_csv['price'].head(3)"
   ]
  },
  {
   "cell_type": "code",
   "execution_count": 7,
   "metadata": {},
   "outputs": [
    {
     "data": {
      "text/plain": [
       "53937    D\n",
       "53938    H\n",
       "53939    D\n",
       "Name: color, dtype: object"
      ]
     },
     "execution_count": 7,
     "metadata": {},
     "output_type": "execute_result"
    }
   ],
   "source": [
    "#tail-color\n",
    "df_diamond_csv['color'].tail(3)"
   ]
  },
  {
   "cell_type": "markdown",
   "metadata": {
    "colab_type": "text",
    "id": "q-u9QIjJ5dfK"
   },
   "source": [
    "<h2>Soal 5: Deskriptif Statistik</h2>\n",
    "\n",
    "Jelaskan apa itu deskriptis statistik!"
   ]
  },
  {
   "cell_type": "markdown",
   "metadata": {
    "colab_type": "text",
    "id": "iKTeB5Gd5dfM"
   },
   "source": [
    "Jawab: Suatu metode dalam ilmu statistik yang berupaya untuk menampilkan gambaran umum perhitungan statistika pada sebuah data"
   ]
  },
  {
   "cell_type": "markdown",
   "metadata": {
    "colab_type": "text",
    "id": "5SKD0rNu5dfP"
   },
   "source": [
    "<h2>Soal 6: Practice Deskriptif Statistik</h2>\n",
    "\n",
    "- Gunakan suatu metode dari pandas untuk mengetahui deskriptif statistik dari suatu data\n",
    "- Berapa nilai rata-rata dari column price\n",
    "- Berapa nilai standar deviasi dari column depth\n",
    "- Berapa nilai maximum dari column carat"
   ]
  },
  {
   "cell_type": "code",
   "execution_count": 11,
   "metadata": {
    "colab": {},
    "colab_type": "code",
    "id": "giNtJG9Y5dfS"
   },
   "outputs": [
    {
     "data": {
      "text/plain": [
       "count    53940.000000\n",
       "mean         0.797940\n",
       "std          0.474011\n",
       "min          0.200000\n",
       "25%          0.400000\n",
       "50%          0.700000\n",
       "75%          1.040000\n",
       "max          5.010000\n",
       "Name: carat, dtype: float64"
      ]
     },
     "execution_count": 11,
     "metadata": {},
     "output_type": "execute_result"
    }
   ],
   "source": [
    "# statistik deskriptif\n",
    "import pandas as pd\n",
    "df_diamond_csv = pd.read_csv('diamonds-1.csv')\n",
    "\n",
    "df_diamond_csv['price'].describe()\n",
    "df_diamond_csv['depth'].describe()\n",
    "df_diamond_csv['carat'].describe()\n"
   ]
  },
  {
   "cell_type": "markdown",
   "metadata": {
    "colab_type": "text",
    "id": "M6miZVtG5dfd"
   },
   "source": [
    "Jawab: \n",
    "Price Mean: 3932.799722\n",
    "Depth Std: 1.432621\n",
    "Min, Max Carat: 0.200000, 5.010000"
   ]
  }
 ],
 "metadata": {
  "colab": {
   "name": "Tugas Hari 1 Pekan 2.ipynb",
   "provenance": []
  },
  "kernelspec": {
   "display_name": "Python 3",
   "language": "python",
   "name": "python3"
  },
  "language_info": {
   "codemirror_mode": {
    "name": "ipython",
    "version": 3
   },
   "file_extension": ".py",
   "mimetype": "text/x-python",
   "name": "python",
   "nbconvert_exporter": "python",
   "pygments_lexer": "ipython3",
   "version": "3.7.6"
  }
 },
 "nbformat": 4,
 "nbformat_minor": 1
}
